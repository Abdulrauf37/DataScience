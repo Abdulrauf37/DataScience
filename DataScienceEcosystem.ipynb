{
 "cells": [
  {
   "cell_type": "markdown",
   "id": "ed44c3f3-4c62-47eb-985b-1967d517686b",
   "metadata": {},
   "source": [
    "# h1 Data Science Tools and Ecosystem"
   ]
  },
  {
   "cell_type": "markdown",
   "id": "306fc256-8fbc-4b43-b968-b995be26b685",
   "metadata": {},
   "source": [
    "In this notebook, Data Science Tools and Ecosystem are summarized."
   ]
  },
  {
   "cell_type": "markdown",
   "id": "fa30760f-bc55-45a9-a8a3-81916c6f63df",
   "metadata": {},
   "source": [
    "**Objectives:**\n",
    "- Python\n",
    "- SQL\n",
    "- Rstudio\n",
    "- Hadoop\n",
    "- Spark"
   ]
  },
  {
   "cell_type": "markdown",
   "id": "6b46bf15-001e-4f3c-8f26-c840ca44e996",
   "metadata": {},
   "source": [
    "Some of the popular language that Data Scientists use are:\n",
    "1. Python\n",
    "2. R\n",
    "3. SQL"
   ]
  },
  {
   "cell_type": "markdown",
   "id": "13f52012-7c66-46c5-bb4a-fb1bff6998d6",
   "metadata": {},
   "source": [
    "Some of commonly used libraries used by Data Scientists include:\n",
    "1. NumPy\n",
    "2. Pandas\n",
    "3. Mathplotlab\n",
    "4. TensorFlow\n",
    "5. Pytorch\n",
    "6. Scikit\n",
    "7. Seaborn"
   ]
  },
  {
   "cell_type": "markdown",
   "id": "a8e53c08-187f-4e12-aa22-1bdf9de7b6ab",
   "metadata": {},
   "source": [
    "|Data Science Tools|\n",
    "|------------------|\n",
    "|Jupyter Notebook  |\n",
    "|RStudio           |\n",
    "|Hadoop            |\n",
    "|Appache Spark     |"
   ]
  },
  {
   "cell_type": "markdown",
   "id": "50e11911-0f20-4257-99fe-34b8881b76e3",
   "metadata": {},
   "source": [
    "### Below are a few examples of evaluationg arithmetic expressions in Python"
   ]
  },
  {
   "cell_type": "code",
   "execution_count": 8,
   "id": "d241e3a0-854e-4e27-a8b4-5c6b3dd01bd1",
   "metadata": {},
   "outputs": [
    {
     "data": {
      "text/plain": [
       "17"
      ]
     },
     "execution_count": 8,
     "metadata": {},
     "output_type": "execute_result"
    }
   ],
   "source": [
    "#this is a simple arithmetic expression to mutiply then add integers\n",
    "(3*4)+5"
   ]
  },
  {
   "cell_type": "code",
   "execution_count": 9,
   "id": "312c4e81-d731-41aa-960c-4c58c7f8aa0b",
   "metadata": {},
   "outputs": [
    {
     "name": "stdout",
     "output_type": "stream",
     "text": [
      "3.3333333333333335\n"
     ]
    }
   ],
   "source": [
    "#This will convert 200 minuteto hours by diving by 60.\n",
    "min = 200\n",
    "hours = min/60\n",
    "print(hours)"
   ]
  },
  {
   "cell_type": "markdown",
   "id": "bee8e2ad-a988-4c38-91ac-30ca5b21a17b",
   "metadata": {},
   "source": [
    "## Author\n",
    "Abdul Rauf Mirzayee"
   ]
  },
  {
   "cell_type": "code",
   "execution_count": null,
   "id": "19599775-1e81-4a8b-ac36-54ace1476837",
   "metadata": {},
   "outputs": [],
   "source": []
  }
 ],
 "metadata": {
  "kernelspec": {
   "display_name": "Python 3 (ipykernel)",
   "language": "python",
   "name": "python3"
  },
  "language_info": {
   "codemirror_mode": {
    "name": "ipython",
    "version": 3
   },
   "file_extension": ".py",
   "mimetype": "text/x-python",
   "name": "python",
   "nbconvert_exporter": "python",
   "pygments_lexer": "ipython3",
   "version": "3.9.0"
  }
 },
 "nbformat": 4,
 "nbformat_minor": 5
}
